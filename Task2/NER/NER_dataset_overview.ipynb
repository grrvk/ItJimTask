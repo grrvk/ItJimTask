{
 "cells": [
  {
   "cell_type": "markdown",
   "id": "75de327d-3e62-4bb0-9c85-f71b72beb0c0",
   "metadata": {},
   "source": [
    "## Intsall and import"
   ]
  },
  {
   "cell_type": "code",
   "id": "4faf7af1-09c6-49fe-beb3-3417f77ed1fd",
   "metadata": {},
   "source": "!pip install -r requirements.txt",
   "outputs": [],
   "execution_count": null
  },
  {
   "cell_type": "code",
   "execution_count": 14,
   "id": "19f3bb81-67ae-4e17-8dd5-98224c3bcf51",
   "metadata": {},
   "outputs": [
    {
     "name": "stderr",
     "output_type": "stream",
     "text": [
      "[nltk_data] Downloading package wordnet to /Users/vika/nltk_data...\n",
      "[nltk_data]   Package wordnet is already up-to-date!\n",
      "[nltk_data] Downloading package punkt_tab to /Users/vika/nltk_data...\n",
      "[nltk_data]   Package punkt_tab is already up-to-date!\n"
     ]
    }
   ],
   "source": [
    "import pandas as pd\n",
    "import nltk\n",
    "\n",
    "nltk.download('wordnet')\n",
    "nltk.download('punkt_tab')\n",
    "\n",
    "import string\n",
    "import contractions\n",
    "from nltk.stem import WordNetLemmatizer\n",
    "from nltk.tokenize import word_tokenize"
   ]
  },
  {
   "cell_type": "markdown",
   "id": "3983b80f-b1aa-41ff-aa1d-0eeaaf9db208",
   "metadata": {},
   "source": [
    "## Base dataset overview"
   ]
  },
  {
   "cell_type": "markdown",
   "id": "2801f82c-39fa-4633-a028-d470c99cf8c6",
   "metadata": {},
   "source": [
    "For this task was decided to create custom dataset, that will contain texts about classes from image dataset, used from classification model    \n",
    "The created dataset is based on github dataset with fun facts about animals, its size and columns will be described below        \n",
    "Link: https://github.com/ekohrt/animal-fun-facts-dataset"
   ]
  },
  {
   "cell_type": "code",
   "execution_count": 17,
   "id": "c0cec4bf-36bf-42f9-b73e-9e5bff0d073c",
   "metadata": {},
   "outputs": [
    {
     "name": "stdout",
     "output_type": "stream",
     "text": [
      "12\n"
     ]
    }
   ],
   "source": [
    "# Classes that are chosen for image classification, therefore we must determine are they all present in dataset for ner task\n",
    "animal_classes = ['cat', 'cow', 'dog', 'elephant', 'gorilla', 'hippo', 'lizard', 'monkey', 'mouse', 'panda', 'tiger', 'zebra']\n",
    "print(len(animal_classes))"
   ]
  },
  {
   "cell_type": "code",
   "execution_count": 19,
   "id": "565ae37b-8a46-4f07-aac9-814be435533f",
   "metadata": {},
   "outputs": [],
   "source": [
    "# load dataset for ner task\n",
    "ff_df = pd.read_csv('animal-fun-facts-dataset.csv')  "
   ]
  },
  {
   "cell_type": "code",
   "execution_count": 29,
   "id": "904c365c-4b66-45f4-bfcd-6db2055c47a5",
   "metadata": {},
   "outputs": [
    {
     "data": {
      "text/html": [
       "<div>\n",
       "<style scoped>\n",
       "    .dataframe tbody tr th:only-of-type {\n",
       "        vertical-align: middle;\n",
       "    }\n",
       "\n",
       "    .dataframe tbody tr th {\n",
       "        vertical-align: top;\n",
       "    }\n",
       "\n",
       "    .dataframe thead th {\n",
       "        text-align: right;\n",
       "    }\n",
       "</style>\n",
       "<table border=\"1\" class=\"dataframe\">\n",
       "  <thead>\n",
       "    <tr style=\"text-align: right;\">\n",
       "      <th></th>\n",
       "      <th>animal_name</th>\n",
       "      <th>source</th>\n",
       "      <th>text</th>\n",
       "      <th>media_link</th>\n",
       "      <th>wikipedia_link</th>\n",
       "    </tr>\n",
       "  </thead>\n",
       "  <tbody>\n",
       "    <tr>\n",
       "      <th>count</th>\n",
       "      <td>7734</td>\n",
       "      <td>7734</td>\n",
       "      <td>7731</td>\n",
       "      <td>247</td>\n",
       "      <td>7522</td>\n",
       "    </tr>\n",
       "    <tr>\n",
       "      <th>unique</th>\n",
       "      <td>2501</td>\n",
       "      <td>3107</td>\n",
       "      <td>7622</td>\n",
       "      <td>247</td>\n",
       "      <td>2191</td>\n",
       "    </tr>\n",
       "    <tr>\n",
       "      <th>top</th>\n",
       "      <td>platypus</td>\n",
       "      <td>https://factanimal.com/dolphins/</td>\n",
       "      <td>For more information about bony fishes, explor...</td>\n",
       "      <td>https://v.redd.it/tcwv55l0n41a1</td>\n",
       "      <td>/wiki/Platypus</td>\n",
       "    </tr>\n",
       "    <tr>\n",
       "      <th>freq</th>\n",
       "      <td>47</td>\n",
       "      <td>29</td>\n",
       "      <td>23</td>\n",
       "      <td>1</td>\n",
       "      <td>47</td>\n",
       "    </tr>\n",
       "  </tbody>\n",
       "</table>\n",
       "</div>"
      ],
      "text/plain": [
       "       animal_name                            source  \\\n",
       "count         7734                              7734   \n",
       "unique        2501                              3107   \n",
       "top       platypus  https://factanimal.com/dolphins/   \n",
       "freq            47                                29   \n",
       "\n",
       "                                                     text  \\\n",
       "count                                                7731   \n",
       "unique                                               7622   \n",
       "top     For more information about bony fishes, explor...   \n",
       "freq                                                   23   \n",
       "\n",
       "                             media_link  wikipedia_link  \n",
       "count                               247            7522  \n",
       "unique                              247            2191  \n",
       "top     https://v.redd.it/tcwv55l0n41a1  /wiki/Platypus  \n",
       "freq                                  1              47  "
      ]
     },
     "execution_count": 29,
     "metadata": {},
     "output_type": "execute_result"
    }
   ],
   "source": [
    "# get overwiev of dataset df info\n",
    "ff_df.describe()"
   ]
  },
  {
   "cell_type": "code",
   "execution_count": 21,
   "id": "6c3cbd00-e1bb-4b31-9822-7057891600f2",
   "metadata": {},
   "outputs": [
    {
     "data": {
      "text/html": [
       "<div>\n",
       "<style scoped>\n",
       "    .dataframe tbody tr th:only-of-type {\n",
       "        vertical-align: middle;\n",
       "    }\n",
       "\n",
       "    .dataframe tbody tr th {\n",
       "        vertical-align: top;\n",
       "    }\n",
       "\n",
       "    .dataframe thead th {\n",
       "        text-align: right;\n",
       "    }\n",
       "</style>\n",
       "<table border=\"1\" class=\"dataframe\">\n",
       "  <thead>\n",
       "    <tr style=\"text-align: right;\">\n",
       "      <th></th>\n",
       "      <th>animal_name</th>\n",
       "      <th>source</th>\n",
       "      <th>text</th>\n",
       "      <th>media_link</th>\n",
       "      <th>wikipedia_link</th>\n",
       "    </tr>\n",
       "  </thead>\n",
       "  <tbody>\n",
       "    <tr>\n",
       "      <th>0</th>\n",
       "      <td>aardvark</td>\n",
       "      <td>https://www.animalfactsencyclopedia.com/Aardva...</td>\n",
       "      <td>Aardvarks are sometimes called \"ant bears\", \"e...</td>\n",
       "      <td>NaN</td>\n",
       "      <td>/wiki/Aardvark</td>\n",
       "    </tr>\n",
       "    <tr>\n",
       "      <th>1</th>\n",
       "      <td>aardvark</td>\n",
       "      <td>https://www.animalfactsencyclopedia.com/Aardva...</td>\n",
       "      <td>Aardvarks\\nhave rather primitive brains that a...</td>\n",
       "      <td>NaN</td>\n",
       "      <td>/wiki/Aardvark</td>\n",
       "    </tr>\n",
       "    <tr>\n",
       "      <th>2</th>\n",
       "      <td>aardvark</td>\n",
       "      <td>https://www.animalfactsencyclopedia.com/Aardva...</td>\n",
       "      <td>Aardvarks\\nteeth are lined with fine upright t...</td>\n",
       "      <td>NaN</td>\n",
       "      <td>/wiki/Aardvark</td>\n",
       "    </tr>\n",
       "    <tr>\n",
       "      <th>3</th>\n",
       "      <td>aardvark</td>\n",
       "      <td>https://www.animalfactsencyclopedia.com/Aardva...</td>\n",
       "      <td>The aardvarks Latin family name \"Tubulidentata...</td>\n",
       "      <td>NaN</td>\n",
       "      <td>/wiki/Aardvark</td>\n",
       "    </tr>\n",
       "    <tr>\n",
       "      <th>4</th>\n",
       "      <td>aardvark</td>\n",
       "      <td>https://www.animalfactsencyclopedia.com/Aardva...</td>\n",
       "      <td>Baby aardvarks are born with front teeth that ...</td>\n",
       "      <td>NaN</td>\n",
       "      <td>/wiki/Aardvark</td>\n",
       "    </tr>\n",
       "  </tbody>\n",
       "</table>\n",
       "</div>"
      ],
      "text/plain": [
       "  animal_name                                             source  \\\n",
       "0    aardvark  https://www.animalfactsencyclopedia.com/Aardva...   \n",
       "1    aardvark  https://www.animalfactsencyclopedia.com/Aardva...   \n",
       "2    aardvark  https://www.animalfactsencyclopedia.com/Aardva...   \n",
       "3    aardvark  https://www.animalfactsencyclopedia.com/Aardva...   \n",
       "4    aardvark  https://www.animalfactsencyclopedia.com/Aardva...   \n",
       "\n",
       "                                                text media_link  \\\n",
       "0  Aardvarks are sometimes called \"ant bears\", \"e...        NaN   \n",
       "1  Aardvarks\\nhave rather primitive brains that a...        NaN   \n",
       "2  Aardvarks\\nteeth are lined with fine upright t...        NaN   \n",
       "3  The aardvarks Latin family name \"Tubulidentata...        NaN   \n",
       "4  Baby aardvarks are born with front teeth that ...        NaN   \n",
       "\n",
       "   wikipedia_link  \n",
       "0  /wiki/Aardvark  \n",
       "1  /wiki/Aardvark  \n",
       "2  /wiki/Aardvark  \n",
       "3  /wiki/Aardvark  \n",
       "4  /wiki/Aardvark  "
      ]
     },
     "execution_count": 21,
     "metadata": {},
     "output_type": "execute_result"
    }
   ],
   "source": [
    "# view first 5 samples\n",
    "ff_df.head()"
   ]
  },
  {
   "cell_type": "markdown",
   "id": "c2d60fb6-b1d2-4ca3-93fa-45f5484a778e",
   "metadata": {},
   "source": [
    "To ensure that dataset is contains information about animals defined in animal_classes, get all animals names from df and view intersection with animal_classes"
   ]
  },
  {
   "cell_type": "code",
   "execution_count": 23,
   "id": "63ce905f-b070-4982-acfd-346b2581b281",
   "metadata": {},
   "outputs": [],
   "source": [
    "names = ff_df['animal_name'].unique()"
   ]
  },
  {
   "cell_type": "code",
   "execution_count": 25,
   "id": "b4efece8-e9a1-4e23-b979-c8b63c30535f",
   "metadata": {},
   "outputs": [
    {
     "name": "stdout",
     "output_type": "stream",
     "text": [
      "['cat', 'cow', 'dog', 'elephant', 'gorilla', 'hippo', 'lizard', 'monkey', 'mouse', 'panda', 'tiger', 'zebra']\n"
     ]
    },
    {
     "data": {
      "text/plain": [
       "12"
      ]
     },
     "execution_count": 25,
     "metadata": {},
     "output_type": "execute_result"
    }
   ],
   "source": [
    "# append to array only classes, that are present in both ner dataset and animal_classes\n",
    "res = [value for value in animal_classes if value in names]\n",
    "print(res)\n",
    "len(res)"
   ]
  },
  {
   "cell_type": "markdown",
   "id": "3e782ceb-70a7-422b-981f-9fc6dd1f765a",
   "metadata": {},
   "source": [
    "Animal names intersect perfectly, all 12 classes are present in chosen dataset"
   ]
  },
  {
   "cell_type": "markdown",
   "id": "8da326b6-5d2c-433f-8c2c-2903a19c569c",
   "metadata": {},
   "source": [
    "## Custom dataset creation"
   ]
  },
  {
   "cell_type": "markdown",
   "id": "c48325e3-4ec9-4341-9bf8-1fc39affa625",
   "metadata": {},
   "source": [
    "Now we need to create a custom dataset with data suitable for our task. "
   ]
  },
  {
   "cell_type": "code",
   "execution_count": 165,
   "id": "4f9038a7-1df2-4cce-aa63-eb12a4f173c9",
   "metadata": {},
   "outputs": [],
   "source": [
    "# as we will use sentences to create tokens and ner_tags, ensure that all rows in ff_df['text'] column are string\n",
    "ff_df = ff_df[ff_df[\"text\"].apply(lambda x: isinstance(x, str))]"
   ]
  },
  {
   "cell_type": "markdown",
   "id": "2cdc49db-6a43-4c3f-a8a3-e786f8393df1",
   "metadata": {},
   "source": [
    "Our custom dataset will have 3 columns: words: array, ner_tags:array and bio: array (stands for bio-tagging)\n",
    "Before adding data to the dataset, each text from base dataset will be preprocessed:\n",
    "- remove all punctuation and expand contractions\n",
    "- all remained words will be lowercase and replaces with their lemmas for better performance"
   ]
  },
  {
   "cell_type": "code",
   "execution_count": 167,
   "id": "def9264b-4c2a-48f9-916b-64fd164600a3",
   "metadata": {},
   "outputs": [],
   "source": [
    "lemmatizer = WordNetLemmatizer()\n",
    "\n",
    "unique_labels = [\"O\", \"B-AN\", \"I-AN\"]\n",
    "label2id = {k: v for v, k in enumerate(unique_labels)}\n",
    "\n",
    "# convert sentence into array of word lemmas, without punctuation and with expanded contractions\n",
    "def process_tokens(sentence):\n",
    "    sentence = contractions.fix(sentence)\n",
    "    tokens = word_tokenize(sentence)\n",
    "    tokens = [token for token in tokens if token not in string.punctuation]\n",
    "    tokens = [token.lower() for token in tokens]\n",
    "    tokens = [lemmatizer.lemmatize(token) for token in tokens]\n",
    "    return tokens, ' '.join(tokens)\n",
    "\n",
    "# check are there any needed animals mentioned amoung tokens\n",
    "def contains_animal(tokens):\n",
    "    return any(token in animal_classes for token in tokens)\n",
    "\n",
    "# create array of ner tags with 0 if not needed animal class and with 1 if needed\n",
    "def create_ner_tags(tokens):\n",
    "    ner_tags = []\n",
    "    for token in tokens:\n",
    "        if token in animal_classes:\n",
    "            ner_tags.append(1)\n",
    "        else:\n",
    "            ner_tags.append(0)\n",
    "    ner_tags, bio_tags = bio_tagger(ner_tags)\n",
    "    return ner_tags, bio_tags\n",
    "\n",
    "def bio_tagger(ner_tags):\n",
    "    bio_tagged = []\n",
    "    prev_tag = 0\n",
    "    for tag in ner_tags:\n",
    "        if tag == 0:\n",
    "            bio_tagged.append('O')\n",
    "            prev_tag = tag\n",
    "            continue\n",
    "        if tag != 0 and prev_tag == 0:\n",
    "            bio_tagged.append('B-AN')\n",
    "            prev_tag = tag\n",
    "        elif tag != 0 and prev_tag != 0:\n",
    "            bio_tagged.append('I-AN')\n",
    "            prev_tag = tag\n",
    "    ner_tagged = [label2id[bio] for bio in bio_tagged]\n",
    "    return ner_tags, bio_tagged\n",
    "\n",
    "# create empty df for new training data\n",
    "train_df = pd.DataFrame(columns=['words','ner_tags', 'bio'])\n",
    "\n",
    "# fill df\n",
    "for index, row in ff_df.iterrows():\n",
    "    text = row['text']\n",
    "    processed_tokens, sentence = process_tokens(text)\n",
    "    if contains_animal(processed_tokens):\n",
    "        ner_tags, bio_tags = create_ner_tags(processed_tokens)\n",
    "        train_df.loc[len(train_df)] = [processed_tokens, ner_tags, bio_tags]"
   ]
  },
  {
   "cell_type": "markdown",
   "id": "e74d26b3-61ef-4435-87ba-e32c07d7d66b",
   "metadata": {},
   "source": [
    "Custom dataset is created"
   ]
  },
  {
   "cell_type": "code",
   "execution_count": 42,
   "id": "4f48f82b-6201-47b1-998a-891262e029e0",
   "metadata": {},
   "outputs": [
    {
     "ename": "NameError",
     "evalue": "name 'train_df' is not defined",
     "output_type": "error",
     "traceback": [
      "\u001B[0;31m---------------------------------------------------------------------------\u001B[0m",
      "\u001B[0;31mNameError\u001B[0m                                 Traceback (most recent call last)",
      "Cell \u001B[0;32mIn[42], line 2\u001B[0m\n\u001B[1;32m      1\u001B[0m \u001B[38;5;66;03m# get dataset size\u001B[39;00m\n\u001B[0;32m----> 2\u001B[0m \u001B[38;5;28mlen\u001B[39m(train_df)\n",
      "\u001B[0;31mNameError\u001B[0m: name 'train_df' is not defined"
     ]
    }
   ],
   "source": [
    "# get dataset size\n",
    "len(train_df)"
   ]
  },
  {
   "cell_type": "code",
   "execution_count": null,
   "id": "9bc5cb18-d4cd-482b-83a8-140882a1aa13",
   "metadata": {},
   "outputs": [],
   "source": [
    "# get overwiev of dataset df info\n",
    "ff_df.describe()"
   ]
  },
  {
   "cell_type": "code",
   "execution_count": 169,
   "id": "128ed928-ac9b-4a7f-b578-e4d9d38333ca",
   "metadata": {},
   "outputs": [
    {
     "data": {
      "text/html": [
       "<div>\n",
       "<style scoped>\n",
       "    .dataframe tbody tr th:only-of-type {\n",
       "        vertical-align: middle;\n",
       "    }\n",
       "\n",
       "    .dataframe tbody tr th {\n",
       "        vertical-align: top;\n",
       "    }\n",
       "\n",
       "    .dataframe thead th {\n",
       "        text-align: right;\n",
       "    }\n",
       "</style>\n",
       "<table border=\"1\" class=\"dataframe\">\n",
       "  <thead>\n",
       "    <tr style=\"text-align: right;\">\n",
       "      <th></th>\n",
       "      <th>words</th>\n",
       "      <th>ner_tags</th>\n",
       "      <th>bio</th>\n",
       "    </tr>\n",
       "  </thead>\n",
       "  <tbody>\n",
       "    <tr>\n",
       "      <th>0</th>\n",
       "      <td>[wild, dog, are, known, by, many, different, n...</td>\n",
       "      <td>[0, 1, 0, 0, 0, 0, 0, 0, 0, 0, 1, 0, 0, 0, 0, ...</td>\n",
       "      <td>[O, B-AN, O, O, O, O, O, O, O, O, B-AN, O, O, ...</td>\n",
       "    </tr>\n",
       "    <tr>\n",
       "      <th>1</th>\n",
       "      <td>[wild, dog, do, not, use, a, kill, bite, when,...</td>\n",
       "      <td>[0, 1, 0, 0, 0, 0, 0, 0, 0, 0, 0, 0, 0, 0, 0, ...</td>\n",
       "      <td>[O, B-AN, O, O, O, O, O, O, O, O, O, O, O, O, ...</td>\n",
       "    </tr>\n",
       "    <tr>\n",
       "      <th>2</th>\n",
       "      <td>[the, african, wild, dog, is, the, second, lar...</td>\n",
       "      <td>[0, 0, 0, 1, 0, 0, 0, 0, 1, 0, 0, 0, 0, 0]</td>\n",
       "      <td>[O, O, O, B-AN, O, O, O, O, B-AN, O, O, O, O, O]</td>\n",
       "    </tr>\n",
       "    <tr>\n",
       "      <th>3</th>\n",
       "      <td>[the, mandrill, is, the, largest, monkey, specie]</td>\n",
       "      <td>[0, 0, 0, 0, 0, 1, 0]</td>\n",
       "      <td>[O, O, O, O, O, B-AN, O]</td>\n",
       "    </tr>\n",
       "    <tr>\n",
       "      <th>4</th>\n",
       "      <td>[baboon, walk, on, all-fours, like, a, dog]</td>\n",
       "      <td>[0, 0, 0, 0, 0, 0, 1]</td>\n",
       "      <td>[O, O, O, O, O, O, B-AN]</td>\n",
       "    </tr>\n",
       "  </tbody>\n",
       "</table>\n",
       "</div>"
      ],
      "text/plain": [
       "                                               words  \\\n",
       "0  [wild, dog, are, known, by, many, different, n...   \n",
       "1  [wild, dog, do, not, use, a, kill, bite, when,...   \n",
       "2  [the, african, wild, dog, is, the, second, lar...   \n",
       "3  [the, mandrill, is, the, largest, monkey, specie]   \n",
       "4        [baboon, walk, on, all-fours, like, a, dog]   \n",
       "\n",
       "                                            ner_tags  \\\n",
       "0  [0, 1, 0, 0, 0, 0, 0, 0, 0, 0, 1, 0, 0, 0, 0, ...   \n",
       "1  [0, 1, 0, 0, 0, 0, 0, 0, 0, 0, 0, 0, 0, 0, 0, ...   \n",
       "2         [0, 0, 0, 1, 0, 0, 0, 0, 1, 0, 0, 0, 0, 0]   \n",
       "3                              [0, 0, 0, 0, 0, 1, 0]   \n",
       "4                              [0, 0, 0, 0, 0, 0, 1]   \n",
       "\n",
       "                                                 bio  \n",
       "0  [O, B-AN, O, O, O, O, O, O, O, O, B-AN, O, O, ...  \n",
       "1  [O, B-AN, O, O, O, O, O, O, O, O, O, O, O, O, ...  \n",
       "2   [O, O, O, B-AN, O, O, O, O, B-AN, O, O, O, O, O]  \n",
       "3                           [O, O, O, O, O, B-AN, O]  \n",
       "4                           [O, O, O, O, O, O, B-AN]  "
      ]
     },
     "execution_count": 169,
     "metadata": {},
     "output_type": "execute_result"
    }
   ],
   "source": [
    "# view first 5 rows\n",
    "train_df.head()"
   ]
  },
  {
   "cell_type": "markdown",
   "id": "a762d184-6c2a-45ae-b38e-ddb48317cffe",
   "metadata": {},
   "source": [
    "Save custom dataset for further use"
   ]
  },
  {
   "cell_type": "code",
   "execution_count": 175,
   "id": "2661bbbd-babc-4047-95ea-c0fe6640c11e",
   "metadata": {},
   "outputs": [],
   "source": [
    "# save df\n",
    "train_df.to_csv('ner_dataset.csv')"
   ]
  }
 ],
 "metadata": {
  "kernelspec": {
   "display_name": "Python [conda env:base] *",
   "language": "python",
   "name": "conda-base-py"
  },
  "language_info": {
   "codemirror_mode": {
    "name": "ipython",
    "version": 3
   },
   "file_extension": ".py",
   "mimetype": "text/x-python",
   "name": "python",
   "nbconvert_exporter": "python",
   "pygments_lexer": "ipython3",
   "version": "3.12.7"
  }
 },
 "nbformat": 4,
 "nbformat_minor": 5
}
