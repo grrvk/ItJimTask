{
 "cells": [
  {
   "metadata": {},
   "cell_type": "markdown",
   "source": "# Install and import all necessary libraries",
   "id": "ad6f1af98fd79a41"
  },
  {
   "metadata": {
    "ExecuteTime": {
     "end_time": "2025-02-24T09:13:52.411154Z",
     "start_time": "2025-02-24T09:13:20.942907Z"
    }
   },
   "cell_type": "code",
   "source": "!pip install -r requirements.txt",
   "id": "3f83a7ada02eacd1",
   "outputs": [
    {
     "name": "stdout",
     "output_type": "stream",
     "text": [
      "Collecting scikit-learn (from -r requirements.txt (line 1))\r\n",
      "  Obtaining dependency information for scikit-learn from https://files.pythonhosted.org/packages/25/92/ee1d7a00bb6b8c55755d4984fd82608603a3cc59959245068ce32e7fb808/scikit_learn-1.6.1-cp311-cp311-macosx_12_0_arm64.whl.metadata\r\n",
      "  Using cached scikit_learn-1.6.1-cp311-cp311-macosx_12_0_arm64.whl.metadata (31 kB)\r\n",
      "Collecting torch (from -r requirements.txt (line 2))\r\n",
      "  Obtaining dependency information for torch from https://files.pythonhosted.org/packages/0b/fa/f33a4148c6fb46ca2a3f8de39c24d473822d5774d652b66ed9b1214da5f7/torch-2.6.0-cp311-none-macosx_11_0_arm64.whl.metadata\r\n",
      "  Using cached torch-2.6.0-cp311-none-macosx_11_0_arm64.whl.metadata (28 kB)\r\n",
      "Collecting torchvision (from -r requirements.txt (line 3))\r\n",
      "  Obtaining dependency information for torchvision from https://files.pythonhosted.org/packages/29/88/00c69db213ee2443ada8886ec60789b227e06bb869d85ee324578221a7f7/torchvision-0.21.0-cp311-cp311-macosx_11_0_arm64.whl.metadata\r\n",
      "  Using cached torchvision-0.21.0-cp311-cp311-macosx_11_0_arm64.whl.metadata (6.1 kB)\r\n",
      "Collecting matplotlib (from -r requirements.txt (line 4))\r\n",
      "  Obtaining dependency information for matplotlib from https://files.pythonhosted.org/packages/c7/8b/92e9da1f28310a1f6572b5c55097b0c0ceb5e27486d85fb73b54f5a9b939/matplotlib-3.10.0-cp311-cp311-macosx_11_0_arm64.whl.metadata\r\n",
      "  Using cached matplotlib-3.10.0-cp311-cp311-macosx_11_0_arm64.whl.metadata (11 kB)\r\n",
      "Collecting numpy~=1.8 (from -r requirements.txt (line 5))\r\n",
      "  Obtaining dependency information for numpy~=1.8 from https://files.pythonhosted.org/packages/1a/2e/151484f49fd03944c4a3ad9c418ed193cfd02724e138ac8a9505d056c582/numpy-1.26.4-cp311-cp311-macosx_11_0_arm64.whl.metadata\r\n",
      "  Using cached numpy-1.26.4-cp311-cp311-macosx_11_0_arm64.whl.metadata (114 kB)\r\n",
      "Collecting seaborn (from -r requirements.txt (line 6))\r\n",
      "  Obtaining dependency information for seaborn from https://files.pythonhosted.org/packages/83/11/00d3c3dfc25ad54e731d91449895a79e4bf2384dc3ac01809010ba88f6d5/seaborn-0.13.2-py3-none-any.whl.metadata\r\n",
      "  Using cached seaborn-0.13.2-py3-none-any.whl.metadata (5.4 kB)\r\n",
      "Collecting opencv-python (from -r requirements.txt (line 7))\r\n",
      "  Obtaining dependency information for opencv-python from https://files.pythonhosted.org/packages/05/4d/53b30a2a3ac1f75f65a59eb29cf2ee7207ce64867db47036ad61743d5a23/opencv_python-4.11.0.86-cp37-abi3-macosx_13_0_arm64.whl.metadata\r\n",
      "  Using cached opencv_python-4.11.0.86-cp37-abi3-macosx_13_0_arm64.whl.metadata (20 kB)\r\n",
      "Collecting scipy>=1.6.0 (from scikit-learn->-r requirements.txt (line 1))\r\n",
      "  Obtaining dependency information for scipy>=1.6.0 from https://files.pythonhosted.org/packages/61/d8/84da3fffefb6c7d5a16968fe5b9f24c98606b165bb801bb0b8bc3985200f/scipy-1.15.2-cp311-cp311-macosx_14_0_arm64.whl.metadata\r\n",
      "  Using cached scipy-1.15.2-cp311-cp311-macosx_14_0_arm64.whl.metadata (61 kB)\r\n",
      "Collecting joblib>=1.2.0 (from scikit-learn->-r requirements.txt (line 1))\r\n",
      "  Obtaining dependency information for joblib>=1.2.0 from https://files.pythonhosted.org/packages/91/29/df4b9b42f2be0b623cbd5e2140cafcaa2bef0759a00b7b70104dcfe2fb51/joblib-1.4.2-py3-none-any.whl.metadata\r\n",
      "  Using cached joblib-1.4.2-py3-none-any.whl.metadata (5.4 kB)\r\n",
      "Collecting threadpoolctl>=3.1.0 (from scikit-learn->-r requirements.txt (line 1))\r\n",
      "  Obtaining dependency information for threadpoolctl>=3.1.0 from https://files.pythonhosted.org/packages/4b/2c/ffbf7a134b9ab11a67b0cf0726453cedd9c5043a4fe7a35d1cefa9a1bcfb/threadpoolctl-3.5.0-py3-none-any.whl.metadata\r\n",
      "  Using cached threadpoolctl-3.5.0-py3-none-any.whl.metadata (13 kB)\r\n",
      "Collecting filelock (from torch->-r requirements.txt (line 2))\r\n",
      "  Obtaining dependency information for filelock from https://files.pythonhosted.org/packages/89/ec/00d68c4ddfedfe64159999e5f8a98fb8442729a63e2077eb9dcd89623d27/filelock-3.17.0-py3-none-any.whl.metadata\r\n",
      "  Using cached filelock-3.17.0-py3-none-any.whl.metadata (2.9 kB)\r\n",
      "Requirement already satisfied: typing-extensions>=4.10.0 in /Users/vika/PycharmProjects/Test/.venv/lib/python3.11/site-packages (from torch->-r requirements.txt (line 2)) (4.12.2)\r\n",
      "Collecting networkx (from torch->-r requirements.txt (line 2))\r\n",
      "  Obtaining dependency information for networkx from https://files.pythonhosted.org/packages/b9/54/dd730b32ea14ea797530a4479b2ed46a6fb250f682a9cfb997e968bf0261/networkx-3.4.2-py3-none-any.whl.metadata\r\n",
      "  Using cached networkx-3.4.2-py3-none-any.whl.metadata (6.3 kB)\r\n",
      "Requirement already satisfied: jinja2 in /Users/vika/PycharmProjects/Test/.venv/lib/python3.11/site-packages (from torch->-r requirements.txt (line 2)) (3.1.5)\r\n",
      "Collecting fsspec (from torch->-r requirements.txt (line 2))\r\n",
      "  Obtaining dependency information for fsspec from https://files.pythonhosted.org/packages/e2/94/758680531a00d06e471ef649e4ec2ed6bf185356a7f9fbfbb7368a40bd49/fsspec-2025.2.0-py3-none-any.whl.metadata\r\n",
      "  Using cached fsspec-2025.2.0-py3-none-any.whl.metadata (11 kB)\r\n",
      "Collecting sympy==1.13.1 (from torch->-r requirements.txt (line 2))\r\n",
      "  Obtaining dependency information for sympy==1.13.1 from https://files.pythonhosted.org/packages/b2/fe/81695a1aa331a842b582453b605175f419fe8540355886031328089d840a/sympy-1.13.1-py3-none-any.whl.metadata\r\n",
      "  Using cached sympy-1.13.1-py3-none-any.whl.metadata (12 kB)\r\n",
      "Collecting mpmath<1.4,>=1.1.0 (from sympy==1.13.1->torch->-r requirements.txt (line 2))\r\n",
      "  Obtaining dependency information for mpmath<1.4,>=1.1.0 from https://files.pythonhosted.org/packages/43/e3/7d92a15f894aa0c9c4b49b8ee9ac9850d6e63b03c9c32c0367a13ae62209/mpmath-1.3.0-py3-none-any.whl.metadata\r\n",
      "  Using cached mpmath-1.3.0-py3-none-any.whl.metadata (8.6 kB)\r\n",
      "Collecting pillow!=8.3.*,>=5.3.0 (from torchvision->-r requirements.txt (line 3))\r\n",
      "  Obtaining dependency information for pillow!=8.3.*,>=5.3.0 from https://files.pythonhosted.org/packages/d9/45/3fe487010dd9ce0a06adf9b8ff4f273cc0a44536e234b0fad3532a42c15b/pillow-11.1.0-cp311-cp311-macosx_11_0_arm64.whl.metadata\r\n",
      "  Using cached pillow-11.1.0-cp311-cp311-macosx_11_0_arm64.whl.metadata (9.1 kB)\r\n",
      "Collecting contourpy>=1.0.1 (from matplotlib->-r requirements.txt (line 4))\r\n",
      "  Obtaining dependency information for contourpy>=1.0.1 from https://files.pythonhosted.org/packages/67/71/1e6e95aee21a500415f5d2dbf037bf4567529b6a4e986594d7026ec5ae90/contourpy-1.3.1-cp311-cp311-macosx_11_0_arm64.whl.metadata\r\n",
      "  Using cached contourpy-1.3.1-cp311-cp311-macosx_11_0_arm64.whl.metadata (5.4 kB)\r\n",
      "Collecting cycler>=0.10 (from matplotlib->-r requirements.txt (line 4))\r\n",
      "  Obtaining dependency information for cycler>=0.10 from https://files.pythonhosted.org/packages/e7/05/c19819d5e3d95294a6f5947fb9b9629efb316b96de511b418c53d245aae6/cycler-0.12.1-py3-none-any.whl.metadata\r\n",
      "  Using cached cycler-0.12.1-py3-none-any.whl.metadata (3.8 kB)\r\n",
      "Collecting fonttools>=4.22.0 (from matplotlib->-r requirements.txt (line 4))\r\n",
      "  Obtaining dependency information for fonttools>=4.22.0 from https://files.pythonhosted.org/packages/35/56/a2f3e777d48fcae7ecd29de4d96352d84e5ea9871e5f3fc88241521572cf/fonttools-4.56.0-cp311-cp311-macosx_10_9_universal2.whl.metadata\r\n",
      "  Using cached fonttools-4.56.0-cp311-cp311-macosx_10_9_universal2.whl.metadata (101 kB)\r\n",
      "Collecting kiwisolver>=1.3.1 (from matplotlib->-r requirements.txt (line 4))\r\n",
      "  Obtaining dependency information for kiwisolver>=1.3.1 from https://files.pythonhosted.org/packages/5f/b4/c12b3ac0852a3a68f94598d4c8d569f55361beef6159dce4e7b624160da2/kiwisolver-1.4.8-cp311-cp311-macosx_11_0_arm64.whl.metadata\r\n",
      "  Using cached kiwisolver-1.4.8-cp311-cp311-macosx_11_0_arm64.whl.metadata (6.2 kB)\r\n",
      "Requirement already satisfied: packaging>=20.0 in /Users/vika/PycharmProjects/Test/.venv/lib/python3.11/site-packages (from matplotlib->-r requirements.txt (line 4)) (24.2)\r\n",
      "Collecting pyparsing>=2.3.1 (from matplotlib->-r requirements.txt (line 4))\r\n",
      "  Obtaining dependency information for pyparsing>=2.3.1 from https://files.pythonhosted.org/packages/1c/a7/c8a2d361bf89c0d9577c934ebb7421b25dc84bf3a8e3ac0a40aed9acc547/pyparsing-3.2.1-py3-none-any.whl.metadata\r\n",
      "  Using cached pyparsing-3.2.1-py3-none-any.whl.metadata (5.0 kB)\r\n",
      "Requirement already satisfied: python-dateutil>=2.7 in /Users/vika/PycharmProjects/Test/.venv/lib/python3.11/site-packages (from matplotlib->-r requirements.txt (line 4)) (2.9.0.post0)\r\n",
      "Collecting pandas>=1.2 (from seaborn->-r requirements.txt (line 6))\r\n",
      "  Obtaining dependency information for pandas>=1.2 from https://files.pythonhosted.org/packages/52/11/9eac327a38834f162b8250aab32a6781339c69afe7574368fffe46387edf/pandas-2.2.3-cp311-cp311-macosx_11_0_arm64.whl.metadata\r\n",
      "  Using cached pandas-2.2.3-cp311-cp311-macosx_11_0_arm64.whl.metadata (89 kB)\r\n",
      "Collecting pytz>=2020.1 (from pandas>=1.2->seaborn->-r requirements.txt (line 6))\r\n",
      "  Obtaining dependency information for pytz>=2020.1 from https://files.pythonhosted.org/packages/eb/38/ac33370d784287baa1c3d538978b5e2ea064d4c1b93ffbd12826c190dd10/pytz-2025.1-py2.py3-none-any.whl.metadata\r\n",
      "  Using cached pytz-2025.1-py2.py3-none-any.whl.metadata (22 kB)\r\n",
      "Collecting tzdata>=2022.7 (from pandas>=1.2->seaborn->-r requirements.txt (line 6))\r\n",
      "  Obtaining dependency information for tzdata>=2022.7 from https://files.pythonhosted.org/packages/0f/dd/84f10e23edd882c6f968c21c2434fe67bd4a528967067515feca9e611e5e/tzdata-2025.1-py2.py3-none-any.whl.metadata\r\n",
      "  Using cached tzdata-2025.1-py2.py3-none-any.whl.metadata (1.4 kB)\r\n",
      "Requirement already satisfied: six>=1.5 in /Users/vika/PycharmProjects/Test/.venv/lib/python3.11/site-packages (from python-dateutil>=2.7->matplotlib->-r requirements.txt (line 4)) (1.17.0)\r\n",
      "Requirement already satisfied: MarkupSafe>=2.0 in /Users/vika/PycharmProjects/Test/.venv/lib/python3.11/site-packages (from jinja2->torch->-r requirements.txt (line 2)) (3.0.2)\r\n",
      "Using cached scikit_learn-1.6.1-cp311-cp311-macosx_12_0_arm64.whl (11.1 MB)\r\n",
      "Using cached torch-2.6.0-cp311-none-macosx_11_0_arm64.whl (66.5 MB)\r\n",
      "Using cached sympy-1.13.1-py3-none-any.whl (6.2 MB)\r\n",
      "Using cached torchvision-0.21.0-cp311-cp311-macosx_11_0_arm64.whl (1.8 MB)\r\n",
      "Using cached matplotlib-3.10.0-cp311-cp311-macosx_11_0_arm64.whl (8.0 MB)\r\n",
      "Using cached numpy-1.26.4-cp311-cp311-macosx_11_0_arm64.whl (14.0 MB)\r\n",
      "Using cached seaborn-0.13.2-py3-none-any.whl (294 kB)\r\n",
      "Using cached opencv_python-4.11.0.86-cp37-abi3-macosx_13_0_arm64.whl (37.3 MB)\r\n",
      "Using cached contourpy-1.3.1-cp311-cp311-macosx_11_0_arm64.whl (254 kB)\r\n",
      "Using cached cycler-0.12.1-py3-none-any.whl (8.3 kB)\r\n",
      "Using cached fonttools-4.56.0-cp311-cp311-macosx_10_9_universal2.whl (2.8 MB)\r\n",
      "Using cached joblib-1.4.2-py3-none-any.whl (301 kB)\r\n",
      "Using cached kiwisolver-1.4.8-cp311-cp311-macosx_11_0_arm64.whl (65 kB)\r\n",
      "Using cached pandas-2.2.3-cp311-cp311-macosx_11_0_arm64.whl (11.3 MB)\r\n",
      "Using cached pillow-11.1.0-cp311-cp311-macosx_11_0_arm64.whl (3.1 MB)\r\n",
      "Using cached pyparsing-3.2.1-py3-none-any.whl (107 kB)\r\n",
      "Using cached scipy-1.15.2-cp311-cp311-macosx_14_0_arm64.whl (22.4 MB)\r\n",
      "Using cached threadpoolctl-3.5.0-py3-none-any.whl (18 kB)\r\n",
      "Using cached filelock-3.17.0-py3-none-any.whl (16 kB)\r\n",
      "Using cached fsspec-2025.2.0-py3-none-any.whl (184 kB)\r\n",
      "Using cached networkx-3.4.2-py3-none-any.whl (1.7 MB)\r\n",
      "Using cached mpmath-1.3.0-py3-none-any.whl (536 kB)\r\n",
      "Using cached pytz-2025.1-py2.py3-none-any.whl (507 kB)\r\n",
      "Using cached tzdata-2025.1-py2.py3-none-any.whl (346 kB)\r\n",
      "Installing collected packages: pytz, mpmath, tzdata, threadpoolctl, sympy, pyparsing, pillow, numpy, networkx, kiwisolver, joblib, fsspec, fonttools, filelock, cycler, torch, scipy, pandas, opencv-python, contourpy, torchvision, scikit-learn, matplotlib, seaborn\r\n",
      "Successfully installed contourpy-1.3.1 cycler-0.12.1 filelock-3.17.0 fonttools-4.56.0 fsspec-2025.2.0 joblib-1.4.2 kiwisolver-1.4.8 matplotlib-3.10.0 mpmath-1.3.0 networkx-3.4.2 numpy-1.26.4 opencv-python-4.11.0.86 pandas-2.2.3 pillow-11.1.0 pyparsing-3.2.1 pytz-2025.1 scikit-learn-1.6.1 scipy-1.15.2 seaborn-0.13.2 sympy-1.13.1 threadpoolctl-3.5.0 torch-2.6.0 torchvision-0.21.0 tzdata-2025.1\r\n",
      "\r\n",
      "\u001B[1m[\u001B[0m\u001B[34;49mnotice\u001B[0m\u001B[1;39;49m]\u001B[0m\u001B[39;49m A new release of pip is available: \u001B[0m\u001B[31;49m23.2.1\u001B[0m\u001B[39;49m -> \u001B[0m\u001B[32;49m25.0.1\u001B[0m\r\n",
      "\u001B[1m[\u001B[0m\u001B[34;49mnotice\u001B[0m\u001B[1;39;49m]\u001B[0m\u001B[39;49m To update, run: \u001B[0m\u001B[32;49mpip install --upgrade pip\u001B[0m\r\n"
     ]
    }
   ],
   "execution_count": 1
  },
  {
   "metadata": {
    "ExecuteTime": {
     "end_time": "2025-02-24T09:14:52.461913Z",
     "start_time": "2025-02-24T09:14:52.459496Z"
    }
   },
   "cell_type": "code",
   "source": [
    "import random\n",
    "import numpy as np\n",
    "from torchvision import transforms\n",
    "import matplotlib.pyplot as plt\n",
    "\n",
    "from src.data_process import load_mnist_dataset, get_dataloader, prepare_custom_input, print_predictions\n",
    "from src.classifiers import MnistClassifier"
   ],
   "id": "initial_id",
   "outputs": [],
   "execution_count": 3
  },
  {
   "metadata": {},
   "cell_type": "markdown",
   "source": "# Pipeline detailed example",
   "id": "d2f7339fbcd73b14"
  },
  {
   "metadata": {},
   "cell_type": "markdown",
   "source": "## Dataset preparation",
   "id": "24af932853bf1144"
  },
  {
   "metadata": {
    "ExecuteTime": {
     "end_time": "2025-02-24T09:14:56.635356Z",
     "start_time": "2025-02-24T09:14:56.603613Z"
    }
   },
   "cell_type": "code",
   "source": [
    "# transforms to pytorch tensors and normalize\n",
    "img_transforms = transforms.Compose(\n",
    "    [transforms.ToTensor(),\n",
    "     transforms.Normalize((0.1307,), (0.3081,)),\n",
    "     ])\n",
    "\n",
    "# create Dataset classes for train and test MNIST data\n",
    "train_dataset, test_dataset = load_mnist_dataset(img_transforms)\n",
    "print(f'Train dataset size: {len(train_dataset)}')\n",
    "print(f'Test dataset size: {len(test_dataset)}')"
   ],
   "id": "cb5684bb61ae6944",
   "outputs": [
    {
     "name": "stdout",
     "output_type": "stream",
     "text": [
      "Train dataset size: 60000\n",
      "Test dataset size: 10000\n"
     ]
    }
   ],
   "execution_count": 4
  },
  {
   "metadata": {
    "ExecuteTime": {
     "end_time": "2025-02-24T09:15:04.223992Z",
     "start_time": "2025-02-24T09:15:03.989552Z"
    }
   },
   "cell_type": "code",
   "source": [
    "# Plot first 3 images from train dataset\n",
    "\n",
    "fig, axes = plt.subplots(1, 3, figsize=(10, 4))\n",
    "\n",
    "for i in range(3):\n",
    "    image, label = train_dataset[i]\n",
    "    axes[i].imshow(image.squeeze(), cmap=\"gray\")\n",
    "    axes[i].set_title(f\"y={label}\")\n",
    "    axes[i].axis(\"off\")\n",
    "\n",
    "plt.show()"
   ],
   "id": "9e9bf880d8ec4353",
   "outputs": [
    {
     "data": {
      "text/plain": [
       "<Figure size 1000x400 with 3 Axes>"
      ],
      "image/png": "[encoded data removed]"
     },
     "metadata": {},
     "output_type": "display_data"
    }
   ],
   "execution_count": 5
  },
  {
   "metadata": {
    "ExecuteTime": {
     "end_time": "2025-02-24T09:15:05.610588Z",
     "start_time": "2025-02-24T09:15:05.548696Z"
    }
   },
   "cell_type": "code",
   "source": [
    "# Plot first 3 images from test dataset\n",
    "\n",
    "fig, axes = plt.subplots(1, 3, figsize=(10, 4))\n",
    "\n",
    "for i in range(3):\n",
    "    image, label = test_dataset[i]\n",
    "    axes[i].imshow(image.squeeze(), cmap=\"gray\")\n",
    "    axes[i].set_title(f\"y={label}\")\n",
    "    axes[i].axis(\"off\")\n",
    "\n",
    "plt.show()"
   ],
   "id": "1635690d2adba92d",
   "outputs": [
    {
     "data": {
      "text/plain": [
       "<Figure size 1000x400 with 3 Axes>"
      ],
      "image/png": "[encoded data removed]"
     },
     "metadata": {},
     "output_type": "display_data"
    }
   ],
   "execution_count": 6
  },
  {
   "metadata": {
    "ExecuteTime": {
     "end_time": "2025-02-20T20:11:44.800721Z",
     "start_time": "2025-02-20T20:11:44.798620Z"
    }
   },
   "cell_type": "code",
   "source": [
    "# Create dataloaders for train and test datasets\n",
    "\n",
    "train_dataloader = get_dataloader(train_dataset, 64)\n",
    "test_dataloader = get_dataloader(test_dataset, 64)"
   ],
   "id": "d8952655e5aedfc3",
   "outputs": [],
   "execution_count": 6
  },
  {
   "metadata": {},
   "cell_type": "markdown",
   "source": "## Initialize, train and test classifier",
   "id": "52ea0e6e61ca424b"
  },
  {
   "metadata": {
    "ExecuteTime": {
     "end_time": "2025-02-20T20:15:02.671649Z",
     "start_time": "2025-02-20T20:11:44.801306Z"
    }
   },
   "cell_type": "code",
   "source": [
    "algorithm = 'cnn'  # Select an algorithm type from ['rf', 'nn', 'cnn']\n",
    "classifier = MnistClassifier(algorithm)  # Create classifier\n",
    "\n",
    "classifier.train(train_dataloader)  # Train the classifier\n",
    "y_pred, y_test = classifier.test(test_dataloader)  # Evaluate performance on test dataset"
   ],
   "id": "b6c190aacda19dc1",
   "outputs": [
    {
     "name": "stdout",
     "output_type": "stream",
     "text": [
      "Training CNN...\n",
      "Epoch 1: loss = 0.3632939375821811\n",
      "Epoch 2: loss = 0.10071015113126686\n",
      "Epoch 3: loss = 0.0712715246653093\n",
      "Epoch 4: loss = 0.05672266259903648\n",
      "Epoch 5: loss = 0.04822364442650157\n",
      "Epoch 6: loss = 0.04177291670552036\n",
      "Epoch 7: loss = 0.036376809151019096\n",
      "Epoch 8: loss = 0.032425159515231165\n",
      "Epoch 9: loss = 0.02882767122249796\n",
      "Epoch 10: loss = 0.025390971250504928\n",
      "Training finished\n",
      "Performing prediction on test set...\n",
      "Accuracy 0.9899, macro f1 0.9897805141387417\n",
      "              precision    recall  f1-score   support\n",
      "\n",
      "           0       0.99      0.99      0.99       980\n",
      "           1       0.99      1.00      1.00      1135\n",
      "           2       0.99      0.98      0.99      1032\n",
      "           3       0.99      1.00      0.99      1010\n",
      "           4       0.99      0.99      0.99       982\n",
      "           5       0.99      0.98      0.99       892\n",
      "           6       1.00      0.99      0.99       958\n",
      "           7       0.99      0.99      0.99      1028\n",
      "           8       0.99      0.99      0.99       974\n",
      "           9       0.99      0.99      0.99      1009\n",
      "\n",
      "    accuracy                           0.99     10000\n",
      "   macro avg       0.99      0.99      0.99     10000\n",
      "weighted avg       0.99      0.99      0.99     10000\n",
      "\n"
     ]
    },
    {
     "data": {
      "text/plain": [
       "<Figure size 640x480 with 2 Axes>"
      ],
      "image/png": "[encoded data removed]"
     },
     "metadata": {},
     "output_type": "display_data"
    }
   ],
   "execution_count": 7
  },
  {
   "metadata": {
    "ExecuteTime": {
     "end_time": "2025-02-20T20:15:02.675399Z",
     "start_time": "2025-02-20T20:15:02.672648Z"
    }
   },
   "cell_type": "code",
   "source": [
    "# Get samples that were misclassified, calculate their rate in test data\n",
    "\n",
    "misclassified_indices = np.where(y_test != y_pred)[0]\n",
    "misclassified_labels = y_pred[misclassified_indices]\n",
    "\n",
    "misclassified_percent = len(misclassified_indices) / len(test_dataset) * 100\n",
    "print(f'Percent of misclassified samples: {misclassified_percent:.2f}%')"
   ],
   "id": "56b46df470a51afd",
   "outputs": [
    {
     "name": "stdout",
     "output_type": "stream",
     "text": [
      "Percent of misclassified samples: 1.01%\n"
     ]
    }
   ],
   "execution_count": 8
  },
  {
   "metadata": {
    "ExecuteTime": {
     "end_time": "2025-02-20T20:15:02.739378Z",
     "start_time": "2025-02-20T20:15:02.676230Z"
    }
   },
   "cell_type": "code",
   "source": [
    "# Plot 3 random misclassified samples\n",
    "\n",
    "random_misclassified = random.choices(misclassified_indices, k=3)\n",
    "fig, axes = plt.subplots(1, 3, figsize=(10, 4))\n",
    "\n",
    "for i, index in enumerate(random_misclassified):\n",
    "    image, label = test_dataset[index]\n",
    "    axes[i].imshow(image.squeeze(), cmap=\"gray\")\n",
    "    axes[i].set_title(f\"pred_y={misclassified_labels[i]}\")\n",
    "    axes[i].axis(\"off\")\n",
    "\n",
    "plt.show()"
   ],
   "id": "43b863e6cb38b3fe",
   "outputs": [
    {
     "data": {
      "text/plain": [
       "<Figure size 1000x400 with 3 Axes>"
      ],
      "image/png": "[encoded data removed]"
     },
     "metadata": {},
     "output_type": "display_data"
    }
   ],
   "execution_count": 9
  },
  {
   "metadata": {},
   "cell_type": "markdown",
   "source": "## Custom input prediction",
   "id": "94d22dad4c78d390"
  },
  {
   "metadata": {
    "ExecuteTime": {
     "end_time": "2025-02-20T20:15:02.753703Z",
     "start_time": "2025-02-20T20:15:02.741749Z"
    }
   },
   "cell_type": "code",
   "source": [
    "# Simulate custom user input by getting data from folder (also can be performed for one image)\n",
    "\n",
    "path_to_input = 'sample_custom_data'\n",
    "image_paths, prepared_data = prepare_custom_input(path_to_input)"
   ],
   "id": "d07f44a273278ffe",
   "outputs": [],
   "execution_count": 10
  },
  {
   "metadata": {
    "ExecuteTime": {
     "end_time": "2025-02-20T20:15:02.785262Z",
     "start_time": "2025-02-20T20:15:02.754535Z"
    }
   },
   "cell_type": "code",
   "source": [
    "# Sample folder consists of only 2 images, plot them\n",
    "\n",
    "fig, axes = plt.subplots(1, 2, figsize=(10, 4))\n",
    "\n",
    "for i in range(2):\n",
    "    image = prepared_data[i]\n",
    "    axes[i].imshow(image.numpy()[0], cmap=\"gray\")\n",
    "    axes[i].axis(\"off\")\n",
    "\n",
    "plt.show()"
   ],
   "id": "2a04aa3b6c50c093",
   "outputs": [
    {
     "data": {
      "text/plain": [
       "<Figure size 1000x400 with 2 Axes>"
      ],
      "image/png": "[encoded data removed]"
     },
     "metadata": {},
     "output_type": "display_data"
    }
   ],
   "execution_count": 11
  },
  {
   "metadata": {
    "ExecuteTime": {
     "end_time": "2025-02-20T20:15:02.791112Z",
     "start_time": "2025-02-20T20:15:02.785977Z"
    }
   },
   "cell_type": "code",
   "source": [
    "# Get model predictions and print them\n",
    "\n",
    "predictions = classifier.predict(prepared_data)\n",
    "print_predictions(image_paths, predictions)"
   ],
   "id": "f001b4704b8f5095",
   "outputs": [
    {
     "name": "stdout",
     "output_type": "stream",
     "text": [
      "Image: 2.jpg, Predicted Label: 2\n",
      "Image: 0.jpg, Predicted Label: 0\n"
     ]
    }
   ],
   "execution_count": 12
  },
  {
   "metadata": {},
   "cell_type": "markdown",
   "source": "# Command-line invoke",
   "id": "75248a96e19f7c51"
  },
  {
   "metadata": {},
   "cell_type": "markdown",
   "source": "To see confusion matrices when running pipeline with command-line - uncomment **matplotlib TkAgg**  in classifiers.py",
   "id": "db3573d506671f1d"
  },
  {
   "metadata": {
    "ExecuteTime": {
     "end_time": "2025-02-20T20:15:42.901211Z",
     "start_time": "2025-02-20T20:15:02.820743Z"
    }
   },
   "cell_type": "code",
   "source": [
    "# Example how to train and test Random forest Classifier\n",
    "\n",
    "!python main.py --alg rf "
   ],
   "id": "afb5d2a0b2fcd900",
   "outputs": [
    {
     "name": "stdout",
     "output_type": "stream",
     "text": [
      "Training RFC...\r\n",
      "Training finished\r\n",
      "Performing prediction on test set...\r\n",
      "Accuracy 0.9693, macro f1 0.9690597097581172\r\n",
      "              precision    recall  f1-score   support\r\n",
      "\r\n",
      "           0       0.97      0.99      0.98       980\r\n",
      "           1       0.99      0.99      0.99      1135\r\n",
      "           2       0.96      0.97      0.97      1032\r\n",
      "           3       0.96      0.97      0.96      1010\r\n",
      "           4       0.97      0.97      0.97       982\r\n",
      "           5       0.98      0.96      0.97       892\r\n",
      "           6       0.97      0.98      0.97       958\r\n",
      "           7       0.97      0.96      0.97      1028\r\n",
      "           8       0.96      0.95      0.96       974\r\n",
      "           9       0.96      0.95      0.95      1009\r\n",
      "\r\n",
      "    accuracy                           0.97     10000\r\n",
      "   macro avg       0.97      0.97      0.97     10000\r\n",
      "weighted avg       0.97      0.97      0.97     10000\r\n",
      "\r\n",
      "Figure(640x480)\r\n"
     ]
    }
   ],
   "execution_count": 14
  },
  {
   "metadata": {
    "ExecuteTime": {
     "end_time": "2025-02-20T20:16:35.030640Z",
     "start_time": "2025-02-20T20:15:42.902649Z"
    }
   },
   "cell_type": "code",
   "source": [
    "# Example how to train and test Feed-Forward Neural Network\n",
    "\n",
    "!python main.py --alg nn"
   ],
   "id": "6e32ae49f53b848c",
   "outputs": [
    {
     "name": "stdout",
     "output_type": "stream",
     "text": [
      "Training FFN...\r\n",
      "Epoch 1: loss = 0.8227090153422183\r\n",
      "Epoch 2: loss = 0.3129759580929523\r\n",
      "Epoch 3: loss = 0.2554950716494243\r\n",
      "Epoch 4: loss = 0.21683172383176874\r\n",
      "Epoch 5: loss = 0.1873034338659442\r\n",
      "Epoch 6: loss = 0.16392886593365974\r\n",
      "Epoch 7: loss = 0.14578776400107374\r\n",
      "Epoch 8: loss = 0.13088423112578101\r\n",
      "Epoch 9: loss = 0.11836797139768217\r\n",
      "Epoch 10: loss = 0.10752474651264865\r\n",
      "Epoch 11: loss = 0.09785893022902865\r\n",
      "Epoch 12: loss = 0.08995935185127325\r\n",
      "Epoch 13: loss = 0.08291771218899502\r\n",
      "Epoch 14: loss = 0.07679157433852649\r\n",
      "Epoch 15: loss = 0.07090018763204914\r\n",
      "Training finished\r\n",
      "Performing prediction on test set...\r\n",
      "Accuracy 0.9732, macro f1 0.97300615334123\r\n",
      "              precision    recall  f1-score   support\r\n",
      "\r\n",
      "           0       0.98      0.98      0.98       980\r\n",
      "           1       0.98      0.98      0.98      1135\r\n",
      "           2       0.98      0.97      0.98      1032\r\n",
      "           3       0.96      0.98      0.97      1010\r\n",
      "           4       0.97      0.98      0.97       982\r\n",
      "           5       0.97      0.97      0.97       892\r\n",
      "           6       0.97      0.97      0.97       958\r\n",
      "           7       0.98      0.96      0.97      1028\r\n",
      "           8       0.97      0.96      0.96       974\r\n",
      "           9       0.97      0.97      0.97      1009\r\n",
      "\r\n",
      "    accuracy                           0.97     10000\r\n",
      "   macro avg       0.97      0.97      0.97     10000\r\n",
      "weighted avg       0.97      0.97      0.97     10000\r\n",
      "\r\n",
      "Figure(640x480)\r\n"
     ]
    }
   ],
   "execution_count": 15
  },
  {
   "metadata": {
    "ExecuteTime": {
     "end_time": "2025-02-20T20:19:59.130150Z",
     "start_time": "2025-02-20T20:16:35.034171Z"
    }
   },
   "cell_type": "code",
   "source": [
    "# Example how to train and test Convolutional Neural Network\n",
    "\n",
    "!python main.py --alg cnn"
   ],
   "id": "c3ae01ddf36e9eff",
   "outputs": [
    {
     "name": "stdout",
     "output_type": "stream",
     "text": [
      "Training CNN...\r\n",
      "Epoch 1: loss = 0.4112303458285262\r\n",
      "Epoch 2: loss = 0.11630532548212802\r\n",
      "Epoch 3: loss = 0.07859244362028169\r\n",
      "Epoch 4: loss = 0.06073363988237308\r\n",
      "Epoch 5: loss = 0.051334629304953285\r\n",
      "Epoch 6: loss = 0.043900861731494094\r\n",
      "Epoch 7: loss = 0.038825248265197114\r\n",
      "Epoch 8: loss = 0.034388153638597874\r\n",
      "Epoch 9: loss = 0.030731461204609265\r\n",
      "Epoch 10: loss = 0.027740076903863424\r\n",
      "Training finished\r\n",
      "Performing prediction on test set...\r\n",
      "Accuracy 0.9883, macro f1 0.9882129271997032\r\n",
      "              precision    recall  f1-score   support\r\n",
      "\r\n",
      "           0       0.99      0.99      0.99       980\r\n",
      "           1       1.00      0.99      0.99      1135\r\n",
      "           2       0.97      1.00      0.99      1032\r\n",
      "           3       0.97      1.00      0.98      1010\r\n",
      "           4       0.99      0.99      0.99       982\r\n",
      "           5       1.00      0.97      0.98       892\r\n",
      "           6       0.99      0.99      0.99       958\r\n",
      "           7       0.99      0.98      0.99      1028\r\n",
      "           8       0.99      0.99      0.99       974\r\n",
      "           9       0.99      0.98      0.99      1009\r\n",
      "\r\n",
      "    accuracy                           0.99     10000\r\n",
      "   macro avg       0.99      0.99      0.99     10000\r\n",
      "weighted avg       0.99      0.99      0.99     10000\r\n",
      "\r\n",
      "Figure(640x480)\r\n"
     ]
    }
   ],
   "execution_count": 16
  },
  {
   "metadata": {
    "ExecuteTime": {
     "end_time": "2025-02-20T20:21:19.912780Z",
     "start_time": "2025-02-20T20:20:41.558188Z"
    }
   },
   "cell_type": "code",
   "source": [
    "# Example how to train and test Random Forest algorithm, and then run prediction on folder from custom path\n",
    "\n",
    "!python main.py --alg rf --input 'sample_custom_data'"
   ],
   "id": "95de4adaa34d8909",
   "outputs": [
    {
     "name": "stdout",
     "output_type": "stream",
     "text": [
      "Training RFC...\r\n",
      "Training finished\r\n",
      "Performing prediction on test set...\r\n",
      "Accuracy 0.9692, macro f1 0.9689397763003547\r\n",
      "              precision    recall  f1-score   support\r\n",
      "\r\n",
      "           0       0.97      0.99      0.98       980\r\n",
      "           1       0.99      0.99      0.99      1135\r\n",
      "           2       0.96      0.97      0.96      1032\r\n",
      "           3       0.96      0.96      0.96      1010\r\n",
      "           4       0.97      0.97      0.97       982\r\n",
      "           5       0.97      0.96      0.97       892\r\n",
      "           6       0.97      0.98      0.98       958\r\n",
      "           7       0.97      0.96      0.97      1028\r\n",
      "           8       0.96      0.95      0.96       974\r\n",
      "           9       0.96      0.95      0.96      1009\r\n",
      "\r\n",
      "    accuracy                           0.97     10000\r\n",
      "   macro avg       0.97      0.97      0.97     10000\r\n",
      "weighted avg       0.97      0.97      0.97     10000\r\n",
      "\r\n",
      "Figure(640x480)\r\n",
      "<class 'numpy.ndarray'>\r\n",
      "Image: 2.jpg, Predicted Label: 2\r\n",
      "Image: 0.jpg, Predicted Label: 0\r\n"
     ]
    }
   ],
   "execution_count": 18
  },
  {
   "metadata": {
    "ExecuteTime": {
     "end_time": "2025-02-20T20:22:00.317797Z",
     "start_time": "2025-02-20T20:21:20.452513Z"
    }
   },
   "cell_type": "code",
   "source": [
    "# Example how to train and test Random Forest algorithm, and then run prediction on image from custom path\n",
    "\n",
    "!python main.py --alg rf --input 'sample_custom_data/0.jpg'"
   ],
   "id": "65f7b5b051d6707b",
   "outputs": [
    {
     "name": "stdout",
     "output_type": "stream",
     "text": [
      "Training RFC...\r\n",
      "Training finished\r\n",
      "Performing prediction on test set...\r\n",
      "Accuracy 0.9692, macro f1 0.9689661194115555\r\n",
      "              precision    recall  f1-score   support\r\n",
      "\r\n",
      "           0       0.97      0.99      0.98       980\r\n",
      "           1       0.99      0.99      0.99      1135\r\n",
      "           2       0.96      0.97      0.96      1032\r\n",
      "           3       0.96      0.96      0.96      1010\r\n",
      "           4       0.97      0.97      0.97       982\r\n",
      "           5       0.97      0.96      0.97       892\r\n",
      "           6       0.98      0.97      0.98       958\r\n",
      "           7       0.97      0.96      0.97      1028\r\n",
      "           8       0.96      0.96      0.96       974\r\n",
      "           9       0.96      0.95      0.95      1009\r\n",
      "\r\n",
      "    accuracy                           0.97     10000\r\n",
      "   macro avg       0.97      0.97      0.97     10000\r\n",
      "weighted avg       0.97      0.97      0.97     10000\r\n",
      "\r\n",
      "Figure(640x480)\r\n",
      "<class 'numpy.ndarray'>\r\n",
      "Image: 0.jpg, Predicted Label: 0\r\n"
     ]
    }
   ],
   "execution_count": 19
  },
  {
   "metadata": {},
   "cell_type": "code",
   "outputs": [],
   "execution_count": null,
   "source": "",
   "id": "e4d867e181b183eb"
  }
 ],
 "metadata": {
  "kernelspec": {
   "display_name": "Python 3",
   "language": "python",
   "name": "python3"
  },
  "language_info": {
   "codemirror_mode": {
    "name": "ipython",
    "version": 2
   },
   "file_extension": ".py",
   "mimetype": "text/x-python",
   "name": "python",
   "nbconvert_exporter": "python",
   "pygments_lexer": "ipython2",
   "version": "2.7.6"
  }
 },
 "nbformat": 4,
 "nbformat_minor": 5
}
