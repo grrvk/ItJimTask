{
 "cells": [
  {
   "metadata": {},
   "cell_type": "markdown",
   "source": [
    "# Table of Contents\n",
    "\n",
    "- [Install and import](#install-and-import-all-necessary-libraries)     \n",
    "- [Detailed pipeline invoke](#pipeline-detailed-example)\n",
    "  - [Prepare data](#dataset-preparation)\n",
    "  - [Initialize, train and test classifier](#initialize-train-and-test-classifier)\n",
    "  - [Predict from folder by custom path](#custom-input-prediction)\n",
    "\n",
    "- [Command-line invoke](#command-line-invoke)"
   ],
   "id": "ab59797e77629dd5"
  },
  {
   "metadata": {},
   "cell_type": "markdown",
   "source": "# Install and import all necessary libraries",
   "id": "ad6f1af98fd79a41"
  },
  {
   "metadata": {
    "ExecuteTime": {
     "end_time": "2025-02-20T15:13:28.072548Z",
     "start_time": "2025-02-20T15:13:26.388472Z"
    }
   },
   "cell_type": "code",
   "source": "!pip install -r requirements.txt",
   "id": "3f83a7ada02eacd1",
   "outputs": [
    {
     "name": "stdout",
     "output_type": "stream",
     "text": [
      "Requirement already satisfied: scikit-learn~=1.6.1 in /Users/vika/PycharmProjects/Test/.venv/lib/python3.11/site-packages (from -r requirements.txt (line 1)) (1.6.1)\r\n",
      "Requirement already satisfied: torch~=2.6.0 in /Users/vika/PycharmProjects/Test/.venv/lib/python3.11/site-packages (from -r requirements.txt (line 2)) (2.6.0)\r\n",
      "Requirement already satisfied: torchvision~=0.21.0 in /Users/vika/PycharmProjects/Test/.venv/lib/python3.11/site-packages (from -r requirements.txt (line 3)) (0.21.0)\r\n",
      "Requirement already satisfied: matplotlib==3.9.4 in /Users/vika/PycharmProjects/Test/.venv/lib/python3.11/site-packages (from -r requirements.txt (line 4)) (3.9.4)\r\n",
      "Requirement already satisfied: numpy~=2.2.3 in /Users/vika/PycharmProjects/Test/.venv/lib/python3.11/site-packages (from -r requirements.txt (line 5)) (2.2.3)\r\n",
      "Requirement already satisfied: seaborn~=0.13.2 in /Users/vika/PycharmProjects/Test/.venv/lib/python3.11/site-packages (from -r requirements.txt (line 6)) (0.13.2)\r\n",
      "Requirement already satisfied: opencv-python in /Users/vika/PycharmProjects/Test/.venv/lib/python3.11/site-packages (from -r requirements.txt (line 7)) (4.11.0.86)\r\n",
      "Requirement already satisfied: contourpy>=1.0.1 in /Users/vika/PycharmProjects/Test/.venv/lib/python3.11/site-packages (from matplotlib==3.9.4->-r requirements.txt (line 4)) (1.3.1)\r\n",
      "Requirement already satisfied: cycler>=0.10 in /Users/vika/PycharmProjects/Test/.venv/lib/python3.11/site-packages (from matplotlib==3.9.4->-r requirements.txt (line 4)) (0.12.1)\r\n",
      "Requirement already satisfied: fonttools>=4.22.0 in /Users/vika/PycharmProjects/Test/.venv/lib/python3.11/site-packages (from matplotlib==3.9.4->-r requirements.txt (line 4)) (4.56.0)\r\n",
      "Requirement already satisfied: kiwisolver>=1.3.1 in /Users/vika/PycharmProjects/Test/.venv/lib/python3.11/site-packages (from matplotlib==3.9.4->-r requirements.txt (line 4)) (1.4.8)\r\n",
      "Requirement already satisfied: packaging>=20.0 in /Users/vika/PycharmProjects/Test/.venv/lib/python3.11/site-packages (from matplotlib==3.9.4->-r requirements.txt (line 4)) (24.2)\r\n",
      "Requirement already satisfied: pillow>=8 in /Users/vika/PycharmProjects/Test/.venv/lib/python3.11/site-packages (from matplotlib==3.9.4->-r requirements.txt (line 4)) (11.1.0)\r\n",
      "Requirement already satisfied: pyparsing>=2.3.1 in /Users/vika/PycharmProjects/Test/.venv/lib/python3.11/site-packages (from matplotlib==3.9.4->-r requirements.txt (line 4)) (3.2.1)\r\n",
      "Requirement already satisfied: python-dateutil>=2.7 in /Users/vika/PycharmProjects/Test/.venv/lib/python3.11/site-packages (from matplotlib==3.9.4->-r requirements.txt (line 4)) (2.9.0.post0)\r\n",
      "Requirement already satisfied: scipy>=1.6.0 in /Users/vika/PycharmProjects/Test/.venv/lib/python3.11/site-packages (from scikit-learn~=1.6.1->-r requirements.txt (line 1)) (1.15.2)\r\n",
      "Requirement already satisfied: joblib>=1.2.0 in /Users/vika/PycharmProjects/Test/.venv/lib/python3.11/site-packages (from scikit-learn~=1.6.1->-r requirements.txt (line 1)) (1.4.2)\r\n",
      "Requirement already satisfied: threadpoolctl>=3.1.0 in /Users/vika/PycharmProjects/Test/.venv/lib/python3.11/site-packages (from scikit-learn~=1.6.1->-r requirements.txt (line 1)) (3.5.0)\r\n",
      "Requirement already satisfied: filelock in /Users/vika/PycharmProjects/Test/.venv/lib/python3.11/site-packages (from torch~=2.6.0->-r requirements.txt (line 2)) (3.17.0)\r\n",
      "Requirement already satisfied: typing-extensions>=4.10.0 in /Users/vika/PycharmProjects/Test/.venv/lib/python3.11/site-packages (from torch~=2.6.0->-r requirements.txt (line 2)) (4.12.2)\r\n",
      "Requirement already satisfied: networkx in /Users/vika/PycharmProjects/Test/.venv/lib/python3.11/site-packages (from torch~=2.6.0->-r requirements.txt (line 2)) (3.4.2)\r\n",
      "Requirement already satisfied: jinja2 in /Users/vika/PycharmProjects/Test/.venv/lib/python3.11/site-packages (from torch~=2.6.0->-r requirements.txt (line 2)) (3.1.5)\r\n",
      "Requirement already satisfied: fsspec in /Users/vika/PycharmProjects/Test/.venv/lib/python3.11/site-packages (from torch~=2.6.0->-r requirements.txt (line 2)) (2025.2.0)\r\n",
      "Requirement already satisfied: sympy==1.13.1 in /Users/vika/PycharmProjects/Test/.venv/lib/python3.11/site-packages (from torch~=2.6.0->-r requirements.txt (line 2)) (1.13.1)\r\n",
      "Requirement already satisfied: mpmath<1.4,>=1.1.0 in /Users/vika/PycharmProjects/Test/.venv/lib/python3.11/site-packages (from sympy==1.13.1->torch~=2.6.0->-r requirements.txt (line 2)) (1.3.0)\r\n",
      "Requirement already satisfied: pandas>=1.2 in /Users/vika/PycharmProjects/Test/.venv/lib/python3.11/site-packages (from seaborn~=0.13.2->-r requirements.txt (line 6)) (2.2.3)\r\n",
      "Requirement already satisfied: pytz>=2020.1 in /Users/vika/PycharmProjects/Test/.venv/lib/python3.11/site-packages (from pandas>=1.2->seaborn~=0.13.2->-r requirements.txt (line 6)) (2025.1)\r\n",
      "Requirement already satisfied: tzdata>=2022.7 in /Users/vika/PycharmProjects/Test/.venv/lib/python3.11/site-packages (from pandas>=1.2->seaborn~=0.13.2->-r requirements.txt (line 6)) (2025.1)\r\n",
      "Requirement already satisfied: six>=1.5 in /Users/vika/PycharmProjects/Test/.venv/lib/python3.11/site-packages (from python-dateutil>=2.7->matplotlib==3.9.4->-r requirements.txt (line 4)) (1.17.0)\r\n",
      "Requirement already satisfied: MarkupSafe>=2.0 in /Users/vika/PycharmProjects/Test/.venv/lib/python3.11/site-packages (from jinja2->torch~=2.6.0->-r requirements.txt (line 2)) (3.0.2)\r\n",
      "\r\n",
      "\u001B[1m[\u001B[0m\u001B[34;49mnotice\u001B[0m\u001B[1;39;49m]\u001B[0m\u001B[39;49m A new release of pip is available: \u001B[0m\u001B[31;49m23.2.1\u001B[0m\u001B[39;49m -> \u001B[0m\u001B[32;49m25.0.1\u001B[0m\r\n",
      "\u001B[1m[\u001B[0m\u001B[34;49mnotice\u001B[0m\u001B[1;39;49m]\u001B[0m\u001B[39;49m To update, run: \u001B[0m\u001B[32;49mpip install --upgrade pip\u001B[0m\r\n"
     ]
    }
   ],
   "execution_count": 1
  },
  {
   "metadata": {
    "ExecuteTime": {
     "end_time": "2025-02-20T15:13:31.404659Z",
     "start_time": "2025-02-20T15:13:28.074533Z"
    }
   },
   "cell_type": "code",
   "source": [
    "import random\n",
    "import numpy as np\n",
    "from torchvision import transforms\n",
    "import matplotlib.pyplot as plt\n",
    "\n",
    "from src.data_process import load_mnist_dataset, get_dataloader, prepare_custom_input, print_predictions\n",
    "from src.classifiers import MnistClassifier"
   ],
   "id": "initial_id",
   "outputs": [],
   "execution_count": 2
  },
  {
   "metadata": {},
   "cell_type": "markdown",
   "source": "# Pipeline detailed example",
   "id": "d2f7339fbcd73b14"
  },
  {
   "metadata": {},
   "cell_type": "markdown",
   "source": "## Dataset preparation",
   "id": "24af932853bf1144"
  },
  {
   "metadata": {
    "ExecuteTime": {
     "end_time": "2025-02-20T15:13:31.438990Z",
     "start_time": "2025-02-20T15:13:31.405563Z"
    }
   },
   "cell_type": "code",
   "source": [
    "# transforms to pytorch tensors and normalize\n",
    "img_transforms = transforms.Compose(\n",
    "    [transforms.ToTensor(),\n",
    "     transforms.Normalize((0.1307,), (0.3081,)),\n",
    "     ])\n",
    "\n",
    "# create Dataset classes for train and test MNIST data\n",
    "train_dataset, test_dataset = load_mnist_dataset(img_transforms)\n",
    "print(f'Train dataset size: {len(train_dataset)}')\n",
    "print(f'Test dataset size: {len(test_dataset)}')"
   ],
   "id": "cb5684bb61ae6944",
   "outputs": [
    {
     "name": "stdout",
     "output_type": "stream",
     "text": [
      "Train dataset size: 60000\n",
      "Test dataset size: 10000\n"
     ]
    }
   ],
   "execution_count": 3
  },
  {
   "metadata": {
    "ExecuteTime": {
     "end_time": "2025-02-20T15:13:31.523405Z",
     "start_time": "2025-02-20T15:13:31.440733Z"
    }
   },
   "cell_type": "code",
   "source": [
    "# Plot first 3 images from train dataset\n",
    "\n",
    "fig, axes = plt.subplots(1, 3, figsize=(10, 4))\n",
    "\n",
    "for i in range(3):\n",
    "    image, label = train_dataset[i]\n",
    "    axes[i].imshow(image.squeeze(), cmap=\"gray\")\n",
    "    axes[i].set_title(f\"y={label}\")\n",
    "    axes[i].axis(\"off\")\n",
    "\n",
    "plt.show()"
   ],
   "id": "9e9bf880d8ec4353",
   "outputs": [
    {
     "data": {
      "text/plain": [
       "<Figure size 1000x400 with 3 Axes>"
      ],
      "image/png": "[encoded data removed]"
     },
     "metadata": {},
     "output_type": "display_data"
    }
   ],
   "execution_count": 4
  },
  {
   "metadata": {
    "ExecuteTime": {
     "end_time": "2025-02-20T15:13:31.584642Z",
     "start_time": "2025-02-20T15:13:31.524515Z"
    }
   },
   "cell_type": "code",
   "source": [
    "# Plot first 3 images from test dataset\n",
    "\n",
    "fig, axes = plt.subplots(1, 3, figsize=(10, 4))\n",
    "\n",
    "for i in range(3):\n",
    "    image, label = test_dataset[i]\n",
    "    axes[i].imshow(image.squeeze(), cmap=\"gray\")\n",
    "    axes[i].set_title(f\"y={label}\")\n",
    "    axes[i].axis(\"off\")\n",
    "\n",
    "plt.show()"
   ],
   "id": "1635690d2adba92d",
   "outputs": [
    {
     "data": {
      "text/plain": [
       "<Figure size 1000x400 with 3 Axes>"
      ],
      "image/png": "[encoded data removed]"
     },
     "metadata": {},
     "output_type": "display_data"
    }
   ],
   "execution_count": 5
  },
  {
   "metadata": {
    "ExecuteTime": {
     "end_time": "2025-02-20T15:13:31.588144Z",
     "start_time": "2025-02-20T15:13:31.585819Z"
    }
   },
   "cell_type": "code",
   "source": [
    "# Create dataloaders for train and test datasets\n",
    "\n",
    "train_dataloader = get_dataloader(train_dataset, 64)\n",
    "test_dataloader = get_dataloader(test_dataset, 64)"
   ],
   "id": "d8952655e5aedfc3",
   "outputs": [],
   "execution_count": 6
  },
  {
   "metadata": {},
   "cell_type": "markdown",
   "source": "## Initialize, train and test classifier",
   "id": "52ea0e6e61ca424b"
  },
  {
   "metadata": {
    "ExecuteTime": {
     "end_time": "2025-02-20T15:16:47.297480Z",
     "start_time": "2025-02-20T15:13:31.588753Z"
    }
   },
   "cell_type": "code",
   "source": [
    "algorithm = 'cnn'  # Select an algorithm type from ['rf', 'nn', 'cnn']\n",
    "classifier = MnistClassifier(algorithm)  # Create classifier\n",
    "\n",
    "classifier.train(train_dataloader)  # Train the classifier\n",
    "y_pred, y_test = classifier.test(test_dataloader)  # Evaluate performance on test dataset"
   ],
   "id": "b6c190aacda19dc1",
   "outputs": [
    {
     "name": "stdout",
     "output_type": "stream",
     "text": [
      "Training CNN...\n",
      "Epoch 1: loss = 0.1431313843412602\n",
      "Epoch 2: loss = 0.07772851672801953\n",
      "Epoch 3: loss = 0.06861965489404491\n",
      "Epoch 4: loss = 0.06266871218118808\n",
      "Epoch 5: loss = 0.06201961627708958\n",
      "Epoch 6: loss = 0.061117621974139384\n",
      "Epoch 7: loss = 0.057779757442120806\n",
      "Epoch 8: loss = 0.057131418254943056\n",
      "Epoch 9: loss = 0.0595352190246244\n",
      "Epoch 10: loss = 0.05069593397573176\n",
      "Training finished\n",
      "Performing prediction on test set...\n",
      "Accuracy 0.9814, macro f1 0.981330001033149\n",
      "              precision    recall  f1-score   support\n",
      "\n",
      "           0       0.99      0.99      0.99       980\n",
      "           1       0.99      1.00      0.99      1135\n",
      "           2       0.97      0.97      0.97      1032\n",
      "           3       0.99      0.98      0.98      1010\n",
      "           4       0.97      0.98      0.98       982\n",
      "           5       0.98      0.99      0.98       892\n",
      "           6       0.99      0.97      0.98       958\n",
      "           7       0.97      0.98      0.98      1028\n",
      "           8       0.98      0.98      0.98       974\n",
      "           9       0.98      0.98      0.98      1009\n",
      "\n",
      "    accuracy                           0.98     10000\n",
      "   macro avg       0.98      0.98      0.98     10000\n",
      "weighted avg       0.98      0.98      0.98     10000\n",
      "\n"
     ]
    },
    {
     "data": {
      "text/plain": [
       "<Figure size 640x480 with 2 Axes>"
      ],
      "image/png": "[encoded data removed]"
     },
     "metadata": {},
     "output_type": "display_data"
    }
   ],
   "execution_count": 7
  },
  {
   "metadata": {
    "ExecuteTime": {
     "end_time": "2025-02-20T15:16:47.300925Z",
     "start_time": "2025-02-20T15:16:47.298357Z"
    }
   },
   "cell_type": "code",
   "source": [
    "# Get samples that were misclassified, calculate their rate in test data\n",
    "\n",
    "misclassified_indices = np.where(y_test != y_pred)[0]\n",
    "misclassified_labels = y_pred[misclassified_indices]\n",
    "\n",
    "misclassified_percent = len(misclassified_indices) / len(test_dataset) * 100\n",
    "print(f'Percent of misclassified samples: {misclassified_percent:.2f}%')"
   ],
   "id": "56b46df470a51afd",
   "outputs": [
    {
     "name": "stdout",
     "output_type": "stream",
     "text": [
      "Percent of misclassified samples: 1.86%\n"
     ]
    }
   ],
   "execution_count": 8
  },
  {
   "metadata": {
    "ExecuteTime": {
     "end_time": "2025-02-20T15:16:47.362898Z",
     "start_time": "2025-02-20T15:16:47.301760Z"
    }
   },
   "cell_type": "code",
   "source": [
    "# Plot 3 random misclassified samples\n",
    "\n",
    "random_misclassified = random.choices(misclassified_indices, k=3)\n",
    "fig, axes = plt.subplots(1, 3, figsize=(10, 4))\n",
    "\n",
    "for i, index in enumerate(random_misclassified):\n",
    "    image, label = test_dataset[index]\n",
    "    axes[i].imshow(image.squeeze(), cmap=\"gray\")\n",
    "    axes[i].set_title(f\"pred_y={misclassified_labels[i]}\")\n",
    "    axes[i].axis(\"off\")\n",
    "\n",
    "plt.show()"
   ],
   "id": "43b863e6cb38b3fe",
   "outputs": [
    {
     "data": {
      "text/plain": [
       "<Figure size 1000x400 with 3 Axes>"
      ],
      "image/png": "[encoded data removed]"
     },
     "metadata": {},
     "output_type": "display_data"
    }
   ],
   "execution_count": 9
  },
  {
   "metadata": {},
   "cell_type": "markdown",
   "source": "## Custom input prediction",
   "id": "94d22dad4c78d390"
  },
  {
   "metadata": {
    "ExecuteTime": {
     "end_time": "2025-02-20T15:16:47.371311Z",
     "start_time": "2025-02-20T15:16:47.365458Z"
    }
   },
   "cell_type": "code",
   "source": [
    "# Simulate custom user input by getting data from folder (also can be performed for one image)\n",
    "\n",
    "path_to_input = 'sample_custom_data'\n",
    "image_paths, prepared_data = prepare_custom_input(path_to_input)"
   ],
   "id": "d07f44a273278ffe",
   "outputs": [],
   "execution_count": 10
  },
  {
   "metadata": {
    "ExecuteTime": {
     "end_time": "2025-02-20T15:20:49.671602Z",
     "start_time": "2025-02-20T15:20:49.637003Z"
    }
   },
   "cell_type": "code",
   "source": [
    "# Sample folder consists of only 2 images, plot them\n",
    "\n",
    "fig, axes = plt.subplots(1, 2, figsize=(10, 4))\n",
    "\n",
    "for i in range(2):\n",
    "    image = prepared_data[i]\n",
    "    axes[i].imshow(image.numpy()[0], cmap=\"gray\")\n",
    "    axes[i].axis(\"off\")\n",
    "\n",
    "plt.show()"
   ],
   "id": "2a04aa3b6c50c093",
   "outputs": [
    {
     "data": {
      "text/plain": [
       "<Figure size 1000x400 with 2 Axes>"
      ],
      "image/png": "[encoded data removed]"
     },
     "metadata": {},
     "output_type": "display_data"
    }
   ],
   "execution_count": 12
  },
  {
   "metadata": {
    "ExecuteTime": {
     "end_time": "2025-02-20T15:20:50.993858Z",
     "start_time": "2025-02-20T15:20:50.988140Z"
    }
   },
   "cell_type": "code",
   "source": [
    "# Get model predictions and print them\n",
    "\n",
    "predictions = classifier.predict(prepared_data)\n",
    "print_predictions(image_paths, predictions)"
   ],
   "id": "f001b4704b8f5095",
   "outputs": [
    {
     "name": "stdout",
     "output_type": "stream",
     "text": [
      "Image: 2.jpg, Predicted Label: 2\n",
      "Image: 0.jpg, Predicted Label: 0\n"
     ]
    }
   ],
   "execution_count": 13
  },
  {
   "metadata": {},
   "cell_type": "markdown",
   "source": "# Command-line invoke",
   "id": "75248a96e19f7c51"
  },
  {
   "metadata": {
    "ExecuteTime": {
     "end_time": "2025-02-20T15:34:49.952242Z",
     "start_time": "2025-02-20T15:33:54.793882Z"
    }
   },
   "cell_type": "code",
   "source": [
    "# Example how to train and test Random forest Classifier\n",
    "\n",
    "!python main.py --alg rf "
   ],
   "id": "afb5d2a0b2fcd900",
   "outputs": [
    {
     "name": "stdout",
     "output_type": "stream",
     "text": [
      "Training RFC...\r\n",
      "Training finished\r\n",
      "Performing prediction on test set...\r\n",
      "Accuracy 0.9688, macro f1 0.9685808922347029\r\n",
      "              precision    recall  f1-score   support\r\n",
      "\r\n",
      "           0       0.97      0.99      0.98       980\r\n",
      "           1       0.99      0.99      0.99      1135\r\n",
      "           2       0.96      0.97      0.96      1032\r\n",
      "           3       0.96      0.97      0.96      1010\r\n",
      "           4       0.97      0.97      0.97       982\r\n",
      "           5       0.97      0.96      0.97       892\r\n",
      "           6       0.97      0.98      0.97       958\r\n",
      "           7       0.97      0.96      0.96      1028\r\n",
      "           8       0.97      0.95      0.96       974\r\n",
      "           9       0.95      0.95      0.95      1009\r\n",
      "\r\n",
      "    accuracy                           0.97     10000\r\n",
      "   macro avg       0.97      0.97      0.97     10000\r\n",
      "weighted avg       0.97      0.97      0.97     10000\r\n",
      "\r\n",
      "2025-02-20 17:34:34.988 Python[93633:14696693] +[IMKClient subclass]: chose IMKClient_Modern\r\n",
      "2025-02-20 17:34:34.988 Python[93633:14696693] +[IMKInputSession subclass]: chose IMKInputSession_Modern\r\n",
      "2025-02-20 17:34:39.261 Python[93633:14696693] The class 'NSSavePanel' overrides the method identifier.  This method is implemented by class 'NSWindow'\r\n"
     ]
    }
   ],
   "execution_count": 1
  },
  {
   "metadata": {
    "ExecuteTime": {
     "end_time": "2025-02-20T15:57:26.917834Z",
     "start_time": "2025-02-20T15:56:16.470424Z"
    }
   },
   "cell_type": "code",
   "source": [
    "# Example how to train and test Feed-Forward Neural Network\n",
    "\n",
    "!python main.py --alg nn"
   ],
   "id": "6e32ae49f53b848c",
   "outputs": [
    {
     "name": "stdout",
     "output_type": "stream",
     "text": [
      "Training FFN...\r\n",
      "Epoch 1: loss = 0.7843042505797801\r\n",
      "Epoch 2: loss = 0.3057278026062161\r\n",
      "Epoch 3: loss = 0.2462424859563425\r\n",
      "Epoch 4: loss = 0.20689868332067532\r\n",
      "Epoch 5: loss = 0.17806697241874583\r\n",
      "Epoch 6: loss = 0.1556027999012741\r\n",
      "Epoch 7: loss = 0.1379305156074893\r\n",
      "Epoch 8: loss = 0.12399203438701024\r\n",
      "Epoch 9: loss = 0.11226118972370111\r\n",
      "Epoch 10: loss = 0.10230745771812445\r\n",
      "Epoch 11: loss = 0.09366208213026017\r\n",
      "Epoch 12: loss = 0.08584563712627172\r\n",
      "Epoch 13: loss = 0.07932163584135425\r\n",
      "Epoch 14: loss = 0.0731987185430711\r\n",
      "Epoch 15: loss = 0.06783913454708101\r\n",
      "Training finished\r\n",
      "Performing prediction on test set...\r\n",
      "Accuracy 0.9734, macro f1 0.9731885881527758\r\n",
      "              precision    recall  f1-score   support\r\n",
      "\r\n",
      "           0       0.98      0.99      0.98       980\r\n",
      "           1       0.98      0.99      0.99      1135\r\n",
      "           2       0.98      0.97      0.97      1032\r\n",
      "           3       0.97      0.98      0.97      1010\r\n",
      "           4       0.97      0.97      0.97       982\r\n",
      "           5       0.98      0.96      0.97       892\r\n",
      "           6       0.96      0.98      0.97       958\r\n",
      "           7       0.97      0.98      0.97      1028\r\n",
      "           8       0.97      0.97      0.97       974\r\n",
      "           9       0.97      0.95      0.96      1009\r\n",
      "\r\n",
      "    accuracy                           0.97     10000\r\n",
      "   macro avg       0.97      0.97      0.97     10000\r\n",
      "weighted avg       0.97      0.97      0.97     10000\r\n",
      "\r\n",
      "2025-02-20 17:57:05.762 Python[94194:14722940] +[IMKClient subclass]: chose IMKClient_Modern\r\n",
      "2025-02-20 17:57:05.762 Python[94194:14722940] +[IMKInputSession subclass]: chose IMKInputSession_Modern\r\n",
      "2025-02-20 17:57:15.944 Python[94194:14722940] The class 'NSSavePanel' overrides the method identifier.  This method is implemented by class 'NSWindow'\r\n"
     ]
    }
   ],
   "execution_count": 1
  },
  {
   "metadata": {
    "ExecuteTime": {
     "end_time": "2025-02-20T16:21:05.399371Z",
     "start_time": "2025-02-20T16:19:57.997287Z"
    }
   },
   "cell_type": "code",
   "source": [
    "# Example how to train and test Convolutional Neural Network\n",
    "\n",
    "!python main.py --alg cnn"
   ],
   "id": "c3ae01ddf36e9eff",
   "outputs": [
    {
     "name": "stdout",
     "output_type": "stream",
     "text": [
      "Training CNN...\r\n",
      "Epoch 1: loss = 1.0248192343423996\r\n",
      "Epoch 2: loss = 1.2169149272890487\r\n",
      "Epoch 3: loss = 2.3062910029628894\r\n",
      "^C\r\n",
      "Traceback (most recent call last):\r\n",
      "  File \"/Users/vika/PycharmProjects/Test/Task1/main.py\", line 25, in <module>\r\n",
      "    main(algorithm=args.alg, custom_input_path=args.input)\r\n",
      "  File \"/Users/vika/PycharmProjects/Test/Task1/main.py\", line 11, in main\r\n",
      "    classifier.train(train_dataloader)\r\n",
      "  File \"/Users/vika/PycharmProjects/Test/Task1/src/classifiers.py\", line 185, in train\r\n",
      "    self.classifier.train(train_loader)\r\n",
      "  File \"/Users/vika/PycharmProjects/Test/Task1/src/classifiers.py\", line 143, in train\r\n",
      "    outputs = self.model(images)\r\n",
      "              ^^^^^^^^^^^^^^^^^^\r\n",
      "  File \"/Users/vika/PycharmProjects/Test/.venv/lib/python3.11/site-packages/torch/nn/modules/module.py\", line 1739, in _wrapped_call_impl\r\n",
      "    return self._call_impl(*args, **kwargs)\r\n",
      "           ^^^^^^^^^^^^^^^^^^^^^^^^^^^^^^^^\r\n",
      "  File \"/Users/vika/PycharmProjects/Test/.venv/lib/python3.11/site-packages/torch/nn/modules/module.py\", line 1750, in _call_impl\r\n",
      "    return forward_call(*args, **kwargs)\r\n",
      "           ^^^^^^^^^^^^^^^^^^^^^^^^^^^^^\r\n",
      "  File \"/Users/vika/PycharmProjects/Test/Task1/src/models.py\", line 31, in forward\r\n",
      "    x = self.pool(F.relu(self.conv1(x)))\r\n",
      "                         ^^^^^^^^^^^^^\r\n",
      "  File \"/Users/vika/PycharmProjects/Test/.venv/lib/python3.11/site-packages/torch/nn/modules/module.py\", line 1739, in _wrapped_call_impl\r\n",
      "    return self._call_impl(*args, **kwargs)\r\n",
      "           ^^^^^^^^^^^^^^^^^^^^^^^^^^^^^^^^\r\n",
      "  File \"/Users/vika/PycharmProjects/Test/.venv/lib/python3.11/site-packages/torch/nn/modules/module.py\", line 1750, in _call_impl\r\n",
      "    return forward_call(*args, **kwargs)\r\n",
      "           ^^^^^^^^^^^^^^^^^^^^^^^^^^^^^\r\n",
      "  File \"/Users/vika/PycharmProjects/Test/.venv/lib/python3.11/site-packages/torch/nn/modules/conv.py\", line 554, in forward\r\n",
      "    return self._conv_forward(input, self.weight, self.bias)\r\n",
      "           ^^^^^^^^^^^^^^^^^^^^^^^^^^^^^^^^^^^^^^^^^^^^^^^^^\r\n",
      "  File \"/Users/vika/PycharmProjects/Test/.venv/lib/python3.11/site-packages/torch/nn/modules/conv.py\", line 549, in _conv_forward\r\n",
      "    return F.conv2d(\r\n",
      "           ^^^^^^^^^\r\n",
      "KeyboardInterrupt\r\n"
     ]
    }
   ],
   "execution_count": 1
  },
  {
   "metadata": {
    "ExecuteTime": {
     "end_time": "2025-02-20T15:48:25.721392Z",
     "start_time": "2025-02-20T15:44:55.822484Z"
    }
   },
   "cell_type": "code",
   "source": [
    "# Example how to train and test Convolutional Neural Network, and then run prediction on folder from custom path\n",
    "\n",
    "!python main.py --alg cnn --input sample_custom_data"
   ],
   "id": "95de4adaa34d8909",
   "outputs": [
    {
     "name": "stdout",
     "output_type": "stream",
     "text": [
      "Training CNN...\r\n",
      "Epoch 1: loss = 0.3984587057503556\r\n",
      "Epoch 2: loss = 0.21344422518825734\r\n",
      "Epoch 3: loss = 0.18140796976668366\r\n",
      "Epoch 4: loss = 0.15936811937730133\r\n",
      "Epoch 5: loss = 0.13732745561566054\r\n",
      "Epoch 6: loss = 0.12561608851353115\r\n",
      "Epoch 7: loss = 0.11734568060853326\r\n",
      "Epoch 8: loss = 0.10858156128666366\r\n",
      "Epoch 9: loss = 0.10136016809380552\r\n",
      "Epoch 10: loss = 0.10157857806437207\r\n",
      "Training finished\r\n",
      "Performing prediction on test set...\r\n",
      "Accuracy 0.968, macro f1 0.9678924819245598\r\n",
      "              precision    recall  f1-score   support\r\n",
      "\r\n",
      "           0       0.98      0.99      0.98       980\r\n",
      "           1       0.96      0.98      0.97      1135\r\n",
      "           2       0.97      0.96      0.96      1032\r\n",
      "           3       0.97      0.97      0.97      1010\r\n",
      "           4       0.97      0.98      0.98       982\r\n",
      "           5       0.98      0.93      0.96       892\r\n",
      "           6       0.97      0.99      0.98       958\r\n",
      "           7       0.98      0.94      0.96      1028\r\n",
      "           8       0.93      0.98      0.96       974\r\n",
      "           9       0.97      0.95      0.96      1009\r\n",
      "\r\n",
      "    accuracy                           0.97     10000\r\n",
      "   macro avg       0.97      0.97      0.97     10000\r\n",
      "weighted avg       0.97      0.97      0.97     10000\r\n",
      "\r\n",
      "2025-02-20 17:48:22.843 Python[93938:14712107] +[IMKClient subclass]: chose IMKClient_Modern\r\n",
      "2025-02-20 17:48:22.843 Python[93938:14712107] +[IMKInputSession subclass]: chose IMKInputSession_Modern\r\n",
      "Image: 2.jpg, Predicted Label: 2\r\n",
      "Image: 0.jpg, Predicted Label: 0\r\n"
     ]
    }
   ],
   "execution_count": 2
  },
  {
   "metadata": {},
   "cell_type": "code",
   "outputs": [],
   "execution_count": null,
   "source": "",
   "id": "65f7b5b051d6707b"
  }
 ],
 "metadata": {
  "kernelspec": {
   "display_name": "Python 3",
   "language": "python",
   "name": "python3"
  },
  "language_info": {
   "codemirror_mode": {
    "name": "ipython",
    "version": 2
   },
   "file_extension": ".py",
   "mimetype": "text/x-python",
   "name": "python",
   "nbconvert_exporter": "python",
   "pygments_lexer": "ipython2",
   "version": "2.7.6"
  }
 },
 "nbformat": 4,
 "nbformat_minor": 5
}
